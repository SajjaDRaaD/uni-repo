{
 "cells": [
  {
   "cell_type": "code",
   "execution_count": 1,
   "id": "52040b72",
   "metadata": {},
   "outputs": [
    {
     "data": {
      "text/plain": [
       "(55, 22, 33, 44)"
      ]
     },
     "execution_count": 1,
     "metadata": {},
     "output_type": "execute_result"
    }
   ],
   "source": [
    "T= (11, 22, 33, 44,)\n",
    "T= (55,) + T[1:4]\n",
    "T #(55, 22, 33, 44,)"
   ]
  },
  {
   "cell_type": "code",
   "execution_count": null,
   "id": "5150ab1b",
   "metadata": {},
   "outputs": [],
   "source": []
  }
 ],
 "metadata": {
  "kernelspec": {
   "display_name": "Python 3 (ipykernel)",
   "language": "python",
   "name": "python3"
  },
  "language_info": {
   "codemirror_mode": {
    "name": "ipython",
    "version": 3
   },
   "file_extension": ".py",
   "mimetype": "text/x-python",
   "name": "python",
   "nbconvert_exporter": "python",
   "pygments_lexer": "ipython3",
   "version": "3.9.7"
  }
 },
 "nbformat": 4,
 "nbformat_minor": 5
}
