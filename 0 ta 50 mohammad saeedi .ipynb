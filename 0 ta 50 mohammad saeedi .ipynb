{
 "cells": [
  {
   "cell_type": "code",
   "execution_count": 12,
   "id": "e4364776",
   "metadata": {},
   "outputs": [
    {
     "data": {
      "text/plain": [
       "([1, 2],\n",
       " [3, 4],\n",
       " [5, 6],\n",
       " [7, 8],\n",
       " [9, 10],\n",
       " [11, 12],\n",
       " [13, 14],\n",
       " [15, 16],\n",
       " [17, 18],\n",
       " [19, 20],\n",
       " [21, 22],\n",
       " [23, 24],\n",
       " [25, 26],\n",
       " [27, 28],\n",
       " [29, 30],\n",
       " [31, 32],\n",
       " [33, 34],\n",
       " [35, 36],\n",
       " [37, 38],\n",
       " [39, 40],\n",
       " [41, 42],\n",
       " [43, 44],\n",
       " [45, 46],\n",
       " [47, 48],\n",
       " [49, 50])"
      ]
     },
     "execution_count": 12,
     "metadata": {},
     "output_type": "execute_result"
    }
   ],
   "source": [
    "T = [1 , 2, 3, 4, 5, 6, 7, 8, 9, 10, 11, 12, 13, 14, 15, 16, 17, 18, 19, 20, 21 ,22 ,23 ,24 ,25 ,26 ,27 ,28 ,29 ,30 ,31 ,32 ,33 ,34 ,35 ,36 ,37 ,38 ,39 ,40 ,41 ,42 ,43 ,44 ,45 ,46 ,47 ,48 ,49 ,50]\n",
    "T[0:2] ,T[2:4] ,T[4:6] ,T[6:8] ,T[8:10] ,T[10:12] ,T[12:14] ,T[14:16] ,T[16:18] ,T[18:20] ,T[20:22] ,T[22:24] ,T[24:26] ,T[26:28] ,T[28:30] ,T[30:32] ,T[32:34] ,T[34:36] ,T[36:38] ,T[38:40] ,T[40:42] ,T[42:44] ,T[44:46] ,T[46:48] ,T[48:50]"
   ]
  },
  {
   "cell_type": "code",
   "execution_count": null,
   "id": "e168de4c",
   "metadata": {},
   "outputs": [],
   "source": []
  }
 ],
 "metadata": {
  "kernelspec": {
   "display_name": "Python 3 (ipykernel)",
   "language": "python",
   "name": "python3"
  },
  "language_info": {
   "codemirror_mode": {
    "name": "ipython",
    "version": 3
   },
   "file_extension": ".py",
   "mimetype": "text/x-python",
   "name": "python",
   "nbconvert_exporter": "python",
   "pygments_lexer": "ipython3",
   "version": "3.9.7"
  }
 },
 "nbformat": 4,
 "nbformat_minor": 5
}
