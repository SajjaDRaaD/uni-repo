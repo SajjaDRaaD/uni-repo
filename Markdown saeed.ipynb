{
 "cells": [
  {
   "cell_type": "markdown",
   "id": "7f64d834",
   "metadata": {},
   "source": [
    "# This is Level 1 heading\n",
    "## This is Level 2 heading\n",
    "This is some plain text that forms a paragraph. add emphasis via **bold** and__bold__,or*italic* and _italic_.\n",
    "paragraphs must be separated by an empty line.\n",
    "* Sometimes we want to include lists.\n",
    "* Which can be bulleted using asterisks.\n",
    "1. Lists can also be numbered.\n",
    "2. if we want an ordered list.\n",
    "[It is possible to include hyperlinks](https://www.example.com)\n",
    "Inline code uses single backticks: 'foo()', and code blocks use triple backticks:\n",
    "'''\n",
    "\n",
    "bar()\n",
    "\n",
    "'''\n",
    "\n",
    "Or can be indented by 4 spaces:\n",
    "\n",
    "foo()\n",
    "\n",
    "And finally, adding images is easy: ![Alt text](https://www.example.com/image.jpg)\n",
    "\n"
   ]
  }
 ],
 "metadata": {
  "kernelspec": {
   "display_name": "Python 3 (ipykernel)",
   "language": "python",
   "name": "python3"
  },
  "language_info": {
   "codemirror_mode": {
    "name": "ipython",
    "version": 3
   },
   "file_extension": ".py",
   "mimetype": "text/x-python",
   "name": "python",
   "nbconvert_exporter": "python",
   "pygments_lexer": "ipython3",
   "version": "3.9.7"
  }
 },
 "nbformat": 4,
 "nbformat_minor": 5
}
