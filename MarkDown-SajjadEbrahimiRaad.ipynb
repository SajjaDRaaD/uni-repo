{
 "cells": [
  {
   "cell_type": "markdown",
   "metadata": {},
   "source": [
    "# SajjaD is RaaD\n",
    "## SajjaD is RaaD\n",
    "Sajjad is *RaaD* & Sajjad is **RaaD**\n",
    "\n",
    "* Sajjad is RaaD\n",
    "* Sajjad is RaaD\n",
    "* Sajjad is RaaD\n",
    "* Sajjad is RaaD\n",
    "* Sajjad is RaaD\n",
    "\n",
    "1. Sajjad is RaaD\n",
    "2. Sajjad is RaaD\n",
    "3. Sajjad is RaaD\n",
    "4. Sajjad is RaaD\n",
    "5. Sajjad is RaaD\n",
    "\n",
    "`I'm SajjaD Raad`\n",
    "```\n",
    "I'am SajjaD Raad Too\n",
    "```\n",
    "\n",
    "This is my [Website](https://loomina.ir/)\n",
    "\n",
    "And this is my website Logo\n",
    "\n",
    "![Logo](https://loomina.ir/wp-content/uploads/elementor/thumbs/loomina-logo-pbi0dbhbualgdlm4nj4sh4faesb016zfhdwk8ks5q8.png)"
   ]
  }
 ],
 "metadata": {
  "interpreter": {
   "hash": "7d9eb34b9c93a6a410a3a4d06d803e5aa3fef2bea10cee6a7803a357c4877cda"
  },
  "kernelspec": {
   "display_name": "Python 3.10.4 64-bit",
   "language": "python",
   "name": "python3"
  },
  "language_info": {
   "name": "python",
   "version": "3.10.4"
  },
  "orig_nbformat": 4
 },
 "nbformat": 4,
 "nbformat_minor": 2
}
